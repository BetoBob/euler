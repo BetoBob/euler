{
 "cells": [
  {
   "cell_type": "markdown",
   "metadata": {},
   "source": [
    "# [Project Euler #253: Tidying up](https://www.hackerrank.com/contests/projecteuler/challenges/euler253/problem)\n",
    "\n",
    "A small child has a “number caterpillar” consisting of forty jigsaw pieces, each with one number on it, which, when connected together in a line, reveal the numbers `1` to `40` in order.\n",
    "\n",
    "Every night, the child's father has to pick up the pieces of the caterpillar that have been scattered across the play room. He picks up the pieces at random and places them in the correct order. \n",
    "\n",
    "As the caterpillar is built up in this way, it forms distinct segments that gradually merge together. \n",
    "\n",
    "The number of segments starts at zero (no pieces placed), generally increases up to about eleven or twelve, then tends to drop again before finishing at a single segment (all pieces placed).\n",
    "\n",
    "For example:\n",
    "\n",
    "| Piece Place | Segments So Far |\n",
    "|-------------|-----------------|\n",
    "| 12          | 1               |\n",
    "| 4           | 2               |\n",
    "| 29          | 93              |\n",
    "| 6           | 4               |\n",
    "| 34          | 5               |\n",
    "| 5           | 4               |\n",
    "| 35          | 4               |\n",
    "| ...         | ...             |\n",
    "\n",
    "Let `M` be the maximum number of segments encountered during a random tidy-up of the caterpillar. \n",
    "\n",
    "For a caterpillar of ten pieces, the number of possibilities for each `M` is:\n",
    "\n",
    "| M | Possibilities |\n",
    "|---|---------------|\n",
    "| 1 | 512           |\n",
    "| 2 | 250912        |\n",
    "| 3 | 1815264       |\n",
    "| 4 | 1418112       |\n",
    "| 5 | 144000        |\n",
    "\n",
    "so the most likely value of `M` is `3` and the average value is `385643 / 113400 = 3.400723`, rounded to six decimal places.\n",
    "\n",
    "Given the `n`-piece caterpillar, what is the average value of `M`? Give your answer modulo `mod`. As the average value of `M` is obviously rational and could be represented as `p/q`, print `p x q ^ -1` (mod *mod*).\n",
    "\n",
    "## notes\n",
    "\n",
    "This is all about permuations.\n",
    "\n",
    "Having `M = 1` is rare because that means every piece the Dad randomly picks up will be connected to the initial segment. The probability of the occuring for each piece picked up is extremely low.\n",
    "\n",
    "The max M will always be `(n // 2) + (n % 2)`\n",
    "\n",
    "### approach\n",
    "\n",
    "* generate table for `M` values given `n`\n",
    "    * n = 10 can be used as a test case because we are provided with that information\n",
    "\n",
    "## tables\n",
    "\n",
    "* I wish I had some data for the lower `n` tables.\n",
    "\n",
    "### n = 1\n",
    "\n",
    "| M | Possibilities |\n",
    "|---|---------------|\n",
    "| 1 | 1             |\n",
    "\n",
    "### n = 2\n",
    "\n",
    "???\n",
    "\n",
    "| M | Possibilities |\n",
    "|---|---------------|\n",
    "| 1 | 2             |\n",
    "\n",
    "### n = 3\n",
    "\n",
    "???\n",
    "\n",
    "| M | Possibilities |\n",
    "|---|---------------|\n",
    "| 1 | 1             |\n",
    "| 2 |               |"
   ]
  },
  {
   "cell_type": "code",
   "execution_count": 4,
   "metadata": {},
   "outputs": [
    {
     "data": {
      "text/plain": [
       "720"
      ]
     },
     "execution_count": 4,
     "metadata": {},
     "output_type": "execute_result"
    }
   ],
   "source": [
    "import math\n",
    "\n",
    "math.factorial(6)"
   ]
  },
  {
   "cell_type": "code",
   "execution_count": 19,
   "metadata": {},
   "outputs": [
    {
     "data": {
      "text/plain": [
       "2"
      ]
     },
     "execution_count": 19,
     "metadata": {},
     "output_type": "execute_result"
    }
   ],
   "source": [
    "n = 3\n",
    "\n",
    "max_M = (n // 2) + (n % 2)\n",
    "\n",
    "max_M"
   ]
  },
  {
   "cell_type": "code",
   "execution_count": null,
   "metadata": {},
   "outputs": [],
   "source": []
  }
 ],
 "metadata": {
  "kernelspec": {
   "display_name": "Python 3",
   "language": "python",
   "name": "python3"
  },
  "language_info": {
   "codemirror_mode": {
    "name": "ipython",
    "version": 3
   },
   "file_extension": ".py",
   "mimetype": "text/x-python",
   "name": "python",
   "nbconvert_exporter": "python",
   "pygments_lexer": "ipython3",
   "version": "3.7.6"
  }
 },
 "nbformat": 4,
 "nbformat_minor": 4
}
