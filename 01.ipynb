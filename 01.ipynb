{
 "cells": [
  {
   "cell_type": "markdown",
   "metadata": {},
   "source": [
    "# [Project Euler #1: Multiples of 3 and 5](https://www.hackerrank.com/contests/projecteuler/challenges/euler001/problem)\n",
    "\n",
    "Recall:\n",
    "\n",
    "\\begin{equation}\n",
    "\\sum_{i=1}^n n = \\frac{n(n+1)}{2}\n",
    "\\end{equation}\n",
    "\n",
    "## Notes\n",
    "\n",
    "My current solution works, but apparently the arithmetic for very large numbers is difficult for Python to handle. So it requires bit shifting for more accurate results:\n",
    "\n",
    "> For anyone who is using Python3. If you've already converted from the iterive to the O(1) solution but you're still getting the \"wrong answer\" with Test Cases 2 and 3 here is why:\n",
    "> \n",
    "> When you divide integers in python 3, the answer is converted automatically to a float. Becuase Test Cases 2 and 3 involve very large numbers, when you convert back to integer, there will be a huge rounding error and your answers will be wrong.\n",
    ">\n",
    "> This is the issue I had to resolve. Luckily for me, my only division was a divide by two so I converted it to a bitwise right-shift.\n",
    "\n",
    "## Sources:\n",
    "\n",
    "* https://math.stackexchange.com/questions/360830/how-to-find-multiples-of-numbers-under-a-certain-range\n",
    "* https://brilliant.org/wiki/sum-of-n-n2-or-n3/"
   ]
  },
  {
   "cell_type": "code",
   "execution_count": 49,
   "metadata": {},
   "outputs": [],
   "source": [
    "def multi_sum_3_5(n):\n",
    "    n = n - 1\n",
    "    x = n - (n % 3)\n",
    "    y = n - (n % 5)\n",
    "    z = n - (n % 15)\n",
    "    return (x * x) / 6 + x / 2 + (y * y) / 10 + y / 2 - ((z * z) / 30 + z / 2)"
   ]
  },
  {
   "cell_type": "code",
   "execution_count": 48,
   "metadata": {},
   "outputs": [
    {
     "data": {
      "text/plain": [
       "2318.0"
      ]
     },
     "execution_count": 48,
     "metadata": {},
     "output_type": "execute_result"
    }
   ],
   "source": [
    "multi_sum_3_5(100)"
   ]
  },
  {
   "cell_type": "markdown",
   "metadata": {},
   "source": [
    "## HackerRank Submission"
   ]
  },
  {
   "cell_type": "code",
   "execution_count": 50,
   "metadata": {},
   "outputs": [
    {
     "name": "stdout",
     "output_type": "stream",
     "text": [
      "2\n",
      "10\n",
      "23\n",
      "100\n",
      "2318\n"
     ]
    }
   ],
   "source": [
    "#!/bin/python3\n",
    "\n",
    "import sys\n",
    "\n",
    "def multi_sum_3_5(n):\n",
    "    n = n - 1\n",
    "    x = n - (n % 3)\n",
    "    sum_3 = (x * x) / 6 + x / 2\n",
    "    \n",
    "    y = n - (n % 5)\n",
    "    sum_5 = (y * y) / 10 + y / 2\n",
    "    \n",
    "    # overlap to delete\n",
    "    z = n - (n % 15)\n",
    "    sum_15 = ((z * z) / 30 + z / 2)\n",
    "    \n",
    "    \n",
    "    return sum_3 + sum_5 - sum_15\n",
    "\n",
    "\n",
    "t = int(input().strip())\n",
    "for a0 in range(t):\n",
    "    n = int(input().strip())\n",
    "    print(int(multi_sum_3_5(n)))"
   ]
  }
 ],
 "metadata": {
  "kernelspec": {
   "display_name": "Python 3",
   "language": "python",
   "name": "python3"
  },
  "language_info": {
   "codemirror_mode": {
    "name": "ipython",
    "version": 3
   },
   "file_extension": ".py",
   "mimetype": "text/x-python",
   "name": "python",
   "nbconvert_exporter": "python",
   "pygments_lexer": "ipython3",
   "version": "3.7.6"
  }
 },
 "nbformat": 4,
 "nbformat_minor": 4
}
