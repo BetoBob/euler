{
 "cells": [
  {
   "cell_type": "markdown",
   "metadata": {},
   "source": [
    "# [Project Euler #96: Su Doku](https://www.hackerrank.com/contests/projecteuler/challenges/euler096/problem)"
   ]
  },
  {
   "cell_type": "code",
   "execution_count": 2,
   "metadata": {},
   "outputs": [],
   "source": [
    "sudoku_in = '''123456780\n",
    "456780123\n",
    "780123456\n",
    "234567801\n",
    "567801234\n",
    "801234567\n",
    "345678012\n",
    "678012345\n",
    "012345678'''"
   ]
  },
  {
   "cell_type": "code",
   "execution_count": 15,
   "metadata": {},
   "outputs": [],
   "source": [
    "sudoku_rows = [[int(n) for n in row] for row in sudoku_in.split('\\n')]"
   ]
  },
  {
   "cell_type": "code",
   "execution_count": 16,
   "metadata": {},
   "outputs": [
    {
     "data": {
      "text/plain": [
       "[[1, 2, 3, 4, 5, 6, 7, 8, 0],\n",
       " [4, 5, 6, 7, 8, 0, 1, 2, 3],\n",
       " [7, 8, 0, 1, 2, 3, 4, 5, 6],\n",
       " [2, 3, 4, 5, 6, 7, 8, 0, 1],\n",
       " [5, 6, 7, 8, 0, 1, 2, 3, 4],\n",
       " [8, 0, 1, 2, 3, 4, 5, 6, 7],\n",
       " [3, 4, 5, 6, 7, 8, 0, 1, 2],\n",
       " [6, 7, 8, 0, 1, 2, 3, 4, 5],\n",
       " [0, 1, 2, 3, 4, 5, 6, 7, 8]]"
      ]
     },
     "execution_count": 16,
     "metadata": {},
     "output_type": "execute_result"
    }
   ],
   "source": [
    "sudoku_rows"
   ]
  },
  {
   "cell_type": "markdown",
   "metadata": {},
   "source": [
    "## Cubes and Columns"
   ]
  },
  {
   "cell_type": "code",
   "execution_count": 18,
   "metadata": {},
   "outputs": [],
   "source": [
    "sudoku_columns = [list(column) for column in list(zip(*sudoku_matrix))]"
   ]
  },
  {
   "cell_type": "code",
   "execution_count": 19,
   "metadata": {},
   "outputs": [
    {
     "data": {
      "text/plain": [
       "[[1, 4, 7, 2, 5, 8, 3, 6, 0],\n",
       " [2, 5, 8, 3, 6, 0, 4, 7, 1],\n",
       " [3, 6, 0, 4, 7, 1, 5, 8, 2],\n",
       " [4, 7, 1, 5, 8, 2, 6, 0, 3],\n",
       " [5, 8, 2, 6, 0, 3, 7, 1, 4],\n",
       " [6, 0, 3, 7, 1, 4, 8, 2, 5],\n",
       " [7, 1, 4, 8, 2, 5, 0, 3, 6],\n",
       " [8, 2, 5, 0, 3, 6, 1, 4, 7],\n",
       " [0, 3, 6, 1, 4, 7, 2, 5, 8]]"
      ]
     },
     "execution_count": 19,
     "metadata": {},
     "output_type": "execute_result"
    }
   ],
   "source": [
    "sudoku_columns"
   ]
  },
  {
   "cell_type": "markdown",
   "metadata": {},
   "source": [
    "The cubes regions follow this format:\n",
    "\n",
    "|  |  |  |\n",
    "|---|---|---|\n",
    "| 0 | 1 | 2 |\n",
    "| 3 | 4 | 5 |\n",
    "| 6 | 7 | 8 |\n",
    "\n",
    "The index of the cubes list corresponds with the cube region."
   ]
  },
  {
   "cell_type": "code",
   "execution_count": 25,
   "metadata": {},
   "outputs": [],
   "source": [
    "cubes = []\n",
    "\n",
    "for x in range(3):\n",
    "    for y in range(3):\n",
    "        cubes.append(sudoku_rows[0 + (x*3)][0 + (y*3):3 + (y*3)] + sudoku_rows[1 + (x*3)][0 + (y*3):3 + (y*3)] + sudoku_rows[2 + (x*3)][0 + (y*3):3 + (y*3)])"
   ]
  },
  {
   "cell_type": "code",
   "execution_count": 26,
   "metadata": {},
   "outputs": [
    {
     "data": {
      "text/plain": [
       "[[1, 2, 3, 4, 5, 6, 7, 8, 0],\n",
       " [4, 5, 6, 7, 8, 0, 1, 2, 3],\n",
       " [7, 8, 0, 1, 2, 3, 4, 5, 6],\n",
       " [2, 3, 4, 5, 6, 7, 8, 0, 1],\n",
       " [5, 6, 7, 8, 0, 1, 2, 3, 4],\n",
       " [8, 0, 1, 2, 3, 4, 5, 6, 7],\n",
       " [3, 4, 5, 6, 7, 8, 0, 1, 2],\n",
       " [6, 7, 8, 0, 1, 2, 3, 4, 5],\n",
       " [0, 1, 2, 3, 4, 5, 6, 7, 8]]"
      ]
     },
     "execution_count": 26,
     "metadata": {},
     "output_type": "execute_result"
    }
   ],
   "source": [
    "cubes"
   ]
  },
  {
   "cell_type": "code",
   "execution_count": 48,
   "metadata": {},
   "outputs": [],
   "source": [
    "# this will be used to quickly update the status of the cubes / columns\n",
    "\n",
    "def update_columns_cubes(sudoku_rows):\n",
    "    sudoku_columns = [list(column) for column in list(zip(*sudoku_matrix))]\n",
    "    \n",
    "    sudoku_cubes = []\n",
    "\n",
    "    for x in range(3):\n",
    "        for y in range(3):\n",
    "            sudoku_cubes.append(sudoku_rows[0 + (x*3)][0 + (y*3):3 + (y*3)] + sudoku_rows[1 + (x*3)][0 + (y*3):3 + (y*3)] + sudoku_rows[2 + (x*3)][0 + (y*3):3 + (y*3)])\n",
    "            \n",
    "    return sudoku_columns, sudoku_cubes"
   ]
  },
  {
   "cell_type": "code",
   "execution_count": 45,
   "metadata": {},
   "outputs": [],
   "source": [
    "sudoku_cubes, sudoku_columns = update_columns_cubes(sudoku_rows)"
   ]
  },
  {
   "cell_type": "markdown",
   "metadata": {},
   "source": [
    "## Collecting Tests"
   ]
  },
  {
   "cell_type": "code",
   "execution_count": 76,
   "metadata": {},
   "outputs": [],
   "source": [
    "def check(row_id, col_id):\n",
    "    \n",
    "    possible_set = set()\n",
    "    \n",
    "    for n in range(1, 10):\n",
    "        if n not in sudoku_rows[row_id]:\n",
    "            possible_set.add(n)\n",
    "        if n not in sudoku_columns[row_id]:\n",
    "            possible_set.add(n)\n",
    "            \n",
    "    possible_list = list(possible_set)\n",
    "    \n",
    "    if len(possible_list) == 1:\n",
    "        return possible_list[0]\n",
    "    \n",
    "    # fix this (duh)\n",
    "    return 0"
   ]
  },
  {
   "cell_type": "code",
   "execution_count": 78,
   "metadata": {},
   "outputs": [],
   "source": [
    "unsolved = []\n",
    "\n",
    "for row_id in range(len(sudoku_rows)):\n",
    "    for col_id in range(len(sudoku_columns)):\n",
    "        if (sudoku_rows[row_id][col_id] == 0):\n",
    "            sudoku_rows[row_id][col_id] = check(row_id, col_id)"
   ]
  },
  {
   "cell_type": "code",
   "execution_count": 79,
   "metadata": {},
   "outputs": [
    {
     "data": {
      "text/plain": [
       "[[1, 2, 3, 4, 5, 6, 7, 8, 9],\n",
       " [4, 5, 6, 7, 8, 9, 1, 2, 3],\n",
       " [7, 8, 9, 1, 2, 3, 4, 5, 6],\n",
       " [2, 3, 4, 5, 6, 7, 8, 9, 1],\n",
       " [5, 6, 7, 8, 9, 1, 2, 3, 4],\n",
       " [8, 9, 1, 2, 3, 4, 5, 6, 7],\n",
       " [3, 4, 5, 6, 7, 8, 9, 1, 2],\n",
       " [6, 7, 8, 9, 1, 2, 3, 4, 5],\n",
       " [9, 1, 2, 3, 4, 5, 6, 7, 8]]"
      ]
     },
     "execution_count": 79,
     "metadata": {},
     "output_type": "execute_result"
    }
   ],
   "source": [
    "sudoku_rows"
   ]
  },
  {
   "cell_type": "markdown",
   "metadata": {},
   "source": [
    "## Print Solution"
   ]
  },
  {
   "cell_type": "code",
   "execution_count": 82,
   "metadata": {},
   "outputs": [
    {
     "name": "stdout",
     "output_type": "stream",
     "text": [
      "123456789\n",
      "456789123\n",
      "789123456\n",
      "234567891\n",
      "567891234\n",
      "891234567\n",
      "345678912\n",
      "678912345\n",
      "912345678\n"
     ]
    }
   ],
   "source": [
    "# Print Solution\n",
    "\n",
    "for row in sudoku_rows:\n",
    "    print(''.join([str(r) for r in row]))"
   ]
  },
  {
   "cell_type": "code",
   "execution_count": null,
   "metadata": {},
   "outputs": [],
   "source": []
  }
 ],
 "metadata": {
  "kernelspec": {
   "display_name": "Python 3",
   "language": "python",
   "name": "python3"
  },
  "language_info": {
   "codemirror_mode": {
    "name": "ipython",
    "version": 3
   },
   "file_extension": ".py",
   "mimetype": "text/x-python",
   "name": "python",
   "nbconvert_exporter": "python",
   "pygments_lexer": "ipython3",
   "version": "3.7.7"
  }
 },
 "nbformat": 4,
 "nbformat_minor": 4
}
