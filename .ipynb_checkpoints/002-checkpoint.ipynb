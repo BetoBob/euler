{
 "cells": [
  {
   "cell_type": "markdown",
   "metadata": {},
   "source": [
    "# [Project Euler #2: Even Fibonacci numbers](https://www.hackerrank.com/contests/projecteuler/challenges/euler002/problem)\n",
    "\n",
    "This can be solved more efficiently technically:\n",
    "\n",
    "> Notice That:: Every third term of this series is even.... and the series of even terms goes like 0,2,8,34,... so any even term E(n)can be expressed as E(n)= 4*E(n-1) + E(n-2)....\n",
    "> \n",
    "> this small knowledge makes the algorithm quite small and effective. - dusty_mehul"
   ]
  },
  {
   "cell_type": "markdown",
   "metadata": {},
   "source": [
    "## naive solution"
   ]
  },
  {
   "cell_type": "code",
   "execution_count": 24,
   "metadata": {},
   "outputs": [
    {
     "name": "stdout",
     "output_type": "stream",
     "text": [
      "2\n",
      "10\n",
      "100\n",
      "10\n",
      "44\n"
     ]
    }
   ],
   "source": [
    "#!/bin/python3\n",
    "\n",
    "import sys\n",
    "\n",
    "def fib_evens(n):\n",
    "\n",
    "    prev = 0\n",
    "    prev_temp = 0\n",
    "    cur = 1\n",
    "\n",
    "    sum = 0\n",
    "\n",
    "    while((cur + prev) < n):\n",
    "        prev_temp = cur\n",
    "        cur = cur + prev\n",
    "        prev = prev_temp\n",
    "        if(cur % 2 == 0):\n",
    "            sum += cur\n",
    "            \n",
    "    return sum\n",
    "\n",
    "if __name__ == '__main__':\n",
    "\n",
    "    cases = []\n",
    "\n",
    "    t = int(input().strip())\n",
    "    for a0 in range(t):\n",
    "        n = int(input().strip())\n",
    "        cases.append(n)\n",
    "    \n",
    "    for n in cases:\n",
    "        print(fib_evens(n))\n"
   ]
  }
 ],
 "metadata": {
  "kernelspec": {
   "display_name": "Python 3",
   "language": "python",
   "name": "python3"
  },
  "language_info": {
   "codemirror_mode": {
    "name": "ipython",
    "version": 3
   },
   "file_extension": ".py",
   "mimetype": "text/x-python",
   "name": "python",
   "nbconvert_exporter": "python",
   "pygments_lexer": "ipython3",
   "version": "3.7.6"
  }
 },
 "nbformat": 4,
 "nbformat_minor": 4
}
