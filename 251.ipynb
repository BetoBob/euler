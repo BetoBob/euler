{
 "cells": [
  {
   "cell_type": "markdown",
   "metadata": {},
   "source": [
    "# [Project Euler #251: Cardano Triplets](https://www.hackerrank.com/contests/projecteuler/challenges/euler251/problem)\n",
    "\n",
    "## Sources\n",
    "\n",
    "* [Brilliant: Cardano's Method](https://brilliant.org/wiki/cardano-method/)\n",
    "    * this shows that Cardano's method is derived from a cubic expression\n",
    "    * if we can find the cubic expression, we can more easily solve the equation\n",
    "* [Cubic Equations](https://en.wikipedia.org/wiki/Cubic_equation#Cardano%27s_formula)\n",
    "* [Medium Cardano Triples in Swift](https://medium.com/swift-programming/cardano-triplets-in-swift-114692293795)\n",
    "    * this is a brute force method, testing every combo of `n`\n",
    "    * accuracy based on decimal precision; not an exact solution\n",
    "\n",
    "## Approach\n",
    "\n",
    "* study cubic equations (see links above)"
   ]
  },
  {
   "cell_type": "code",
   "execution_count": null,
   "metadata": {},
   "outputs": [],
   "source": []
  }
 ],
 "metadata": {
  "kernelspec": {
   "display_name": "Python 3",
   "language": "python",
   "name": "python3"
  },
  "language_info": {
   "codemirror_mode": {
    "name": "ipython",
    "version": 3
   },
   "file_extension": ".py",
   "mimetype": "text/x-python",
   "name": "python",
   "nbconvert_exporter": "python",
   "pygments_lexer": "ipython3",
   "version": "3.7.6"
  }
 },
 "nbformat": 4,
 "nbformat_minor": 4
}
